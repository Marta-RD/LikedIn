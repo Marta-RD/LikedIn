{
 "cells": [
  {
   "cell_type": "code",
   "execution_count": 58,
   "id": "5a84222c-7f82-451f-a7cb-b7d876a18a23",
   "metadata": {},
   "outputs": [],
   "source": [
    "def readGenome(filename):\n",
    "    genome = ''\n",
    "    with open(filename, 'r') as f:\n",
    "        for line in f:\n",
    "            if not line.startswith('>'):\n",
    "                genome += line.strip()\n",
    "    return genome\n",
    "\n",
    "def reverse_complement(seq):\n",
    "    complement = {'A': 'T', 'T': 'A', 'C': 'G', 'G': 'C'}\n",
    "    return ''.join(complement[base] for base in reversed(seq))\n",
    "\n",
    "def naive_with_rc(p, t):\n",
    "    occurrences = []\n",
    "    for i in range(len(t) - len(p) + 1):\n",
    "        if t[i:i+len(p)] == p:\n",
    "            occurrences.append(i)\n",
    "    rc = reverse_complement(p)\n",
    "    if rc != p:\n",
    "        for i in range(len(t) - len(rc) + 1):\n",
    "            if t[i:i+len(rc)] == rc:\n",
    "                occurrences.append(i)\n",
    "    return occurrences\n",
    "\n",
    "def naive_2mm(p, t):\n",
    "    occurrences = []\n",
    "    for i in range(len(t) - len(p) + 1):\n",
    "        mismatches = 0\n",
    "        for j in range(len(p)):\n",
    "            if t[i + j] != p[j]:\n",
    "                mismatches += 1\n",
    "                if mismatches > 2:\n",
    "                    break\n",
    "        if mismatches <= 2:\n",
    "            occurrences.append(i)\n",
    "    return occurrences\n"
   ]
  },
  {
   "cell_type": "code",
   "execution_count": 59,
   "id": "a54f16d1-a0ec-4b24-bfec-98ef6a18a5b1",
   "metadata": {},
   "outputs": [],
   "source": [
    "lambda_genome = readGenome('lambda_virus.fa')"
   ]
  },
  {
   "cell_type": "markdown",
   "id": "ce124069-7c8a-4e4a-89bc-74deeb8339df",
   "metadata": {},
   "source": [
    "### \n",
    "¿Cuántas veces aparece\r\n",
    "AG im o su complemento invers (\r\n",
    ")atim) en el genoma del virus lambda? a?  "
   ]
  },
  {
   "cell_type": "code",
   "execution_count": 61,
   "id": "2118029f-516e-4b29-8329-89d9ec122b8e",
   "metadata": {},
   "outputs": [
    {
     "name": "stdout",
     "output_type": "stream",
     "text": [
      "P1: 306\n"
     ]
    }
   ],
   "source": [
    "print(\"P1:\", len(naive_with_rc(\"AGGT\", lambda_genome)))"
   ]
  },
  {
   "cell_type": "markdown",
   "id": "34e42722-e670-4d42-8f87-6dc47c45c42c",
   "metadata": {},
   "source": [
    "### ¿Cuántas veces aparece TTAA o su complemento inverso en el genoma del virus lambda?  "
   ]
  },
  {
   "cell_type": "code",
   "execution_count": 63,
   "id": "b9d29db1-e844-4db1-8c5c-efdeacbd1e0a",
   "metadata": {},
   "outputs": [
    {
     "name": "stdout",
     "output_type": "stream",
     "text": [
      "P2: 195\n"
     ]
    }
   ],
   "source": [
    "print(\"P2:\", len(naive_with_rc(\"TTAA\", lambda_genome)))  "
   ]
  },
  {
   "cell_type": "markdown",
   "id": "be1b9f34-dd69-4706-beae-56a9019fa980",
   "metadata": {},
   "source": [
    "### ¿Cuál es el desplazamiento de la aparición más a la izquierda de ACTAAGT o de su complemento inverso en el genoma del virus Lambda? "
   ]
  },
  {
   "cell_type": "code",
   "execution_count": 65,
   "id": "422b35d8-53c2-4d1a-8d8c-5c382333e414",
   "metadata": {},
   "outputs": [
    {
     "name": "stdout",
     "output_type": "stream",
     "text": [
      "P3: 26028\n"
     ]
    }
   ],
   "source": [
    "print(\"P3:\", min(naive_with_rc(\"ACTAAGT\", lambda_genome)))"
   ]
  },
  {
   "cell_type": "markdown",
   "id": "2df35677-a1bf-44fa-b6b0-b863805ffe21",
   "metadata": {},
   "source": [
    "### \n",
    "¿Cuál es el desplazamiento de la aparición más a la izquierda de\r\n",
    "AGTCtim o de su complemento inverso en el genoma del virus Lambda?"
   ]
  },
  {
   "cell_type": "code",
   "execution_count": 67,
   "id": "666d3911-f467-4a76-a5ba-46d06557eb89",
   "metadata": {},
   "outputs": [
    {
     "name": "stdout",
     "output_type": "stream",
     "text": [
      "P4: 450\n"
     ]
    }
   ],
   "source": [
    "print(\"P4:\", min(naive_with_rc(\"AGTCGA\", lambda_genome)))"
   ]
  },
  {
   "cell_type": "markdown",
   "id": "d9ac76e8-b337-4844-94a8-8af9b96039ec",
   "metadata": {},
   "source": [
    "### ¿Cuál es el desplazamiento de la aparición más a la izquierda de AGGAGGT en el genoma del virus Lambda cuando se permiten hasta 2 desajustes?"
   ]
  },
  {
   "cell_type": "code",
   "execution_count": 69,
   "id": "9ffc62d5-c08f-47f8-9c45-458fcc4afbc6",
   "metadata": {},
   "outputs": [
    {
     "name": "stdout",
     "output_type": "stream",
     "text": [
      "P5: 49\n"
     ]
    }
   ],
   "source": [
    "print(\"P5:\", min(naive_2mm(\"AGGAGGTT\", lambda_genome)))"
   ]
  },
  {
   "cell_type": "code",
   "execution_count": null,
   "id": "4414b425-67c2-4b98-aece-f881fbabf0a2",
   "metadata": {},
   "outputs": [],
   "source": []
  }
 ],
 "metadata": {
  "kernelspec": {
   "display_name": "Python 3 (ipykernel)",
   "language": "python",
   "name": "python3"
  },
  "language_info": {
   "codemirror_mode": {
    "name": "ipython",
    "version": 3
   },
   "file_extension": ".py",
   "mimetype": "text/x-python",
   "name": "python",
   "nbconvert_exporter": "python",
   "pygments_lexer": "ipython3",
   "version": "3.12.4"
  }
 },
 "nbformat": 4,
 "nbformat_minor": 5
}
